{
 "cells": [
  {
   "cell_type": "code",
   "execution_count": 22,
   "metadata": {},
   "outputs": [],
   "source": [
    "from tabulate import tabulate\n"
   ]
  },
  {
   "cell_type": "code",
   "execution_count": 33,
   "metadata": {},
   "outputs": [],
   "source": [
    "data = [[\"Mavs\", 99,1,1,1,1,1,1,1,1,1],\n",
    "        [\"Suns\", 91,2,2,2,2], \n",
    "        [\"Spurs\", 94,3,3,3,3], \n",
    "        [\"Nets\", 88,4,4,4,4]]\n",
    "  \n",
    "#define header names\n",
    "col_names = [\"Model\", \"F1_mean\",'F1_SNR', 'F1_AF', 'F1_IAVB', 'F1_LBBB', 'F1_RBBB', 'F1_PAC', 'F1_PVC', 'F1_STD', 'F1_STE']"
   ]
  },
  {
   "cell_type": "code",
   "execution_count": 34,
   "metadata": {},
   "outputs": [
    {
     "name": "stdout",
     "output_type": "stream",
     "text": [
      "╒════╤═════════╤═══════════╤══════════╤═════════╤═══════════╤═══════════╤═══════════╤══════════╤══════════╤══════════╤══════════╕\n",
      "│    │ Model   │   F1_mean │   F1_SNR │   F1_AF │   F1_IAVB │   F1_LBBB │   F1_RBBB │   F1_PAC │   F1_PVC │   F1_STD │   F1_STE │\n",
      "╞════╪═════════╪═══════════╪══════════╪═════════╪═══════════╪═══════════╪═══════════╪══════════╪══════════╪══════════╪══════════╡\n",
      "│  0 │ Mavs    │        99 │        1 │       1 │         1 │         1 │         1 │        1 │        1 │        1 │        1 │\n",
      "├────┼─────────┼───────────┼──────────┼─────────┼───────────┼───────────┼───────────┼──────────┼──────────┼──────────┼──────────┤\n",
      "│  1 │ Suns    │        91 │        2 │       2 │         2 │         2 │           │          │          │          │          │\n",
      "├────┼─────────┼───────────┼──────────┼─────────┼───────────┼───────────┼───────────┼──────────┼──────────┼──────────┼──────────┤\n",
      "│  2 │ Spurs   │        94 │        3 │       3 │         3 │         3 │           │          │          │          │          │\n",
      "├────┼─────────┼───────────┼──────────┼─────────┼───────────┼───────────┼───────────┼──────────┼──────────┼──────────┼──────────┤\n",
      "│  3 │ Nets    │        88 │        4 │       4 │         4 │         4 │           │          │          │          │          │\n",
      "╘════╧═════════╧═══════════╧══════════╧═════════╧═══════════╧═══════════╧═══════════╧══════════╧══════════╧══════════╧══════════╛\n"
     ]
    }
   ],
   "source": [
    "print(tabulate(data, headers=col_names, tablefmt=\"fancy_grid\", showindex=\"always\"))\n"
   ]
  },
  {
   "cell_type": "code",
   "execution_count": 30,
   "metadata": {},
   "outputs": [],
   "source": [
    "import numpy as np"
   ]
  },
  {
   "cell_type": "code",
   "execution_count": 31,
   "metadata": {},
   "outputs": [],
   "source": [
    "a=np.array( [0.7125 , 0.92827004 ,0.86713287, 0.86792453, 0.93406593, 0.52631579,\n",
    " 0.61538462 ,0.78703704, 0.60465116])"
   ]
  },
  {
   "cell_type": "code",
   "execution_count": 32,
   "metadata": {},
   "outputs": [
    {
     "data": {
      "text/plain": [
       "0.7603646644444445"
      ]
     },
     "execution_count": 32,
     "metadata": {},
     "output_type": "execute_result"
    }
   ],
   "source": [
    "np.mean(a)"
   ]
  },
  {
   "cell_type": "code",
   "execution_count": 1,
   "metadata": {},
   "outputs": [],
   "source": [
    "import glob, os"
   ]
  },
  {
   "cell_type": "code",
   "execution_count": 2,
   "metadata": {},
   "outputs": [
    {
     "name": "stdout",
     "output_type": "stream",
     "text": [
      "model1.ptl\n",
      "bestmodel.ptl\n",
      "model2.ptl\n"
     ]
    }
   ],
   "source": [
    "os.chdir(\"result/\")\n",
    "for file in glob.glob(\"*.ptl\"):\n",
    "    print(os.path.basename(file))"
   ]
  },
  {
   "cell_type": "code",
   "execution_count": 2,
   "metadata": {},
   "outputs": [],
   "source": [
    "import os\n",
    " \n",
    "# Get the list of all files and directories\n",
    "path = \"/home/ubuntu/tu.na/ecg_2seconds/result/\"\n",
    "dir_list = os.listdir(path)"
   ]
  },
  {
   "cell_type": "code",
   "execution_count": 3,
   "metadata": {},
   "outputs": [
    {
     "name": "stdout",
     "output_type": "stream",
     "text": [
      "['model1.ptl', 'bestmodel.ptl', 'model2.ptl']\n"
     ]
    }
   ],
   "source": [
    "print(dir_list)"
   ]
  },
  {
   "cell_type": "code",
   "execution_count": 4,
   "metadata": {},
   "outputs": [],
   "source": [
    "import os\n",
    "arr = os.listdir(path)"
   ]
  },
  {
   "cell_type": "code",
   "execution_count": 1,
   "metadata": {},
   "outputs": [],
   "source": [
    "import time"
   ]
  }
 ],
 "metadata": {
  "kernelspec": {
   "display_name": "ecg_env",
   "language": "python",
   "name": "python3"
  },
  "language_info": {
   "codemirror_mode": {
    "name": "ipython",
    "version": 3
   },
   "file_extension": ".py",
   "mimetype": "text/x-python",
   "name": "python",
   "nbconvert_exporter": "python",
   "pygments_lexer": "ipython3",
   "version": "3.10.9"
  },
  "orig_nbformat": 4,
  "vscode": {
   "interpreter": {
    "hash": "c19d27ec8b53023db64b7151c04ed067cd4f00fc0c7232c5d269801cd7a53f56"
   }
  }
 },
 "nbformat": 4,
 "nbformat_minor": 2
}
